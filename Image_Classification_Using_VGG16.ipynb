{
  "nbformat": 4,
  "nbformat_minor": 0,
  "metadata": {
    "colab": {
      "name": "Image_Classification_Using_VGG16.ipynb",
      "version": "0.3.2",
      "views": {},
      "default_view": {},
      "provenance": [],
      "collapsed_sections": []
    },
    "kernelspec": {
      "display_name": "Python 3",
      "language": "python",
      "name": "python3"
    },
    "accelerator": "GPU"
  },
  "cells": [
    {
      "metadata": {
        "id": "DCHGiqgKuxCf",
        "colab_type": "code",
        "colab": {
          "autoexec": {
            "startup": false,
            "wait_interval": 0
          },
          "resources": {
            "http://localhost:8080/nbextensions/google.colab/files.js": {
              "data": "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",
              "ok": true,
              "headers": [
                [
                  "content-type",
                  "application/javascript"
                ]
              ],
              "status": 200,
              "status_text": ""
            }
          },
          "base_uri": "https://localhost:8080/",
          "height": 91
        },
        "outputId": "ccfd7dfe-0853-4868-c6aa-5a7439aee708",
        "executionInfo": {
          "status": "ok",
          "timestamp": 1529054945406,
          "user_tz": -330,
          "elapsed": 30591,
          "user": {
            "displayName": "Himanshu Narang",
            "photoUrl": "//lh3.googleusercontent.com/-xqfGx9_lfCw/AAAAAAAAAAI/AAAAAAAAD7Y/_Yy2zsvI8Ng/s50-c-k-no/photo.jpg",
            "userId": "111430125776049304656"
          }
        }
      },
      "cell_type": "code",
      "source": [
        "from keras.applications.vgg16 import VGG16\n",
        "\n",
        "# load the model\n",
        "\n",
        "model = VGG16()\n",
        "\n",
        "#Uploading files to google colab\n",
        "\n",
        "def upload_files():\n",
        "  from google.colab import files\n",
        "  uploaded = files.upload()\n",
        "  for k, v in uploaded.items():\n",
        "    open(k, 'wb').write(v)\n",
        "  return list(uploaded.keys())\n",
        "\n",
        "upload_files()\n",
        "\n",
        "\n",
        "\n"
      ],
      "execution_count": 62,
      "outputs": [
        {
          "output_type": "display_data",
          "data": {
            "text/html": [
              "\n",
              "     <input type=\"file\" id=\"files-28e6de1d-0ab8-4414-b79f-bbcd895ae2ca\" name=\"files[]\" multiple disabled />\n",
              "     <output id=\"result-28e6de1d-0ab8-4414-b79f-bbcd895ae2ca\">\n",
              "      Upload widget is only available when the cell has been executed in the\n",
              "      current browser session. Please rerun this cell to enable.\n",
              "      </output>\n",
              "      <script src=\"/nbextensions/google.colab/files.js\"></script> "
            ],
            "text/plain": [
              "<IPython.core.display.HTML object>"
            ]
          },
          "metadata": {
            "tags": []
          }
        },
        {
          "output_type": "stream",
          "text": [
            "Saving animal.jpg to animal.jpg\n"
          ],
          "name": "stdout"
        },
        {
          "output_type": "execute_result",
          "data": {
            "text/plain": [
              "['animal.jpg']"
            ]
          },
          "metadata": {
            "tags": []
          },
          "execution_count": 62
        }
      ]
    },
    {
      "metadata": {
        "id": "Ng6eOuj2uxCp",
        "colab_type": "code",
        "colab": {
          "autoexec": {
            "startup": false,
            "wait_interval": 0
          }
        }
      },
      "cell_type": "code",
      "source": [
        "# load an image from file\n",
        "\n",
        "from keras.preprocessing.image import load_img\n",
        "\n",
        "#Converting image to 224*224 pixels because VGG16 model is trained on 224*224\n",
        "\n",
        "image = load_img('animal.jpg', target_size=(224, 224))\n",
        "\n"
      ],
      "execution_count": 0,
      "outputs": []
    },
    {
      "metadata": {
        "id": "ogEVDcGJuxCv",
        "colab_type": "code",
        "colab": {
          "autoexec": {
            "startup": false,
            "wait_interval": 0
          }
        }
      },
      "cell_type": "code",
      "source": [
        "# convert the image pixels to a numpy array\n",
        "\n",
        "from keras.preprocessing.image import img_to_array\n",
        "\n",
        "image = img_to_array(image)\n"
      ],
      "execution_count": 0,
      "outputs": []
    },
    {
      "metadata": {
        "id": "mfSbqFyRyJOu",
        "colab_type": "code",
        "colab": {
          "autoexec": {
            "startup": false,
            "wait_interval": 0
          }
        }
      },
      "cell_type": "code",
      "source": [
        "# reshape data for the model\n",
        "\n",
        "image = image.reshape((1,224,224,3))\n"
      ],
      "execution_count": 0,
      "outputs": []
    },
    {
      "metadata": {
        "id": "wlWYT1lWuxC0",
        "colab_type": "code",
        "colab": {
          "autoexec": {
            "startup": false,
            "wait_interval": 0
          }
        }
      },
      "cell_type": "code",
      "source": [
        "# prepare the image for the VGG model\n",
        "\n",
        "from keras.applications.vgg16 import preprocess_input\n",
        "\n",
        "image = preprocess_input(image)\n"
      ],
      "execution_count": 0,
      "outputs": []
    },
    {
      "metadata": {
        "id": "H7u3IN7PuxC6",
        "colab_type": "code",
        "colab": {
          "autoexec": {
            "startup": false,
            "wait_interval": 0
          },
          "base_uri": "https://localhost:8080/",
          "height": 4535
        },
        "outputId": "f3cd79e5-2f26-4bdf-9a46-04cf064ee937",
        "executionInfo": {
          "status": "ok",
          "timestamp": 1529055335023,
          "user_tz": -330,
          "elapsed": 959,
          "user": {
            "displayName": "Himanshu Narang",
            "photoUrl": "//lh3.googleusercontent.com/-xqfGx9_lfCw/AAAAAAAAAAI/AAAAAAAAD7Y/_Yy2zsvI8Ng/s50-c-k-no/photo.jpg",
            "userId": "111430125776049304656"
          }
        }
      },
      "cell_type": "code",
      "source": [
        "# predict the probability across all output classes\n",
        "y_pred = model.predict(image)\n",
        "y_pred"
      ],
      "execution_count": 79,
      "outputs": [
        {
          "output_type": "execute_result",
          "data": {
            "text/plain": [
              "array([[1.55302278e-08, 2.01008277e-08, 3.37249418e-07, 1.26988766e-08,\n",
              "        1.78712281e-08, 2.04235363e-07, 4.36190390e-08, 8.16852298e-06,\n",
              "        1.52399036e-04, 2.04873650e-05, 3.73765261e-07, 4.87554098e-06,\n",
              "        4.97981887e-07, 7.86379886e-08, 3.95474693e-08, 2.28491928e-08,\n",
              "        1.40368437e-08, 2.00954240e-08, 1.19552297e-08, 2.82574817e-08,\n",
              "        2.48048355e-08, 1.66897081e-07, 1.02649906e-08, 9.07799205e-08,\n",
              "        1.39271297e-08, 7.99996602e-09, 9.53474455e-08, 5.48157111e-08,\n",
              "        5.19483612e-09, 3.83642373e-07, 3.74641509e-08, 3.29116894e-08,\n",
              "        6.00075055e-07, 3.84101995e-08, 2.01479260e-08, 6.21329121e-09,\n",
              "        1.24955022e-06, 2.14055884e-08, 6.96979683e-08, 3.00583849e-07,\n",
              "        3.60864732e-07, 4.78074412e-07, 4.78977142e-07, 3.80798468e-07,\n",
              "        9.10485269e-08, 3.00679034e-07, 2.99845851e-06, 9.20636367e-08,\n",
              "        1.48450809e-07, 4.31244862e-09, 1.00589821e-08, 2.72404428e-08,\n",
              "        1.30889175e-08, 3.87973298e-09, 2.60859991e-07, 5.45302967e-08,\n",
              "        2.38000855e-08, 1.94658991e-08, 6.90038526e-10, 2.13552269e-08,\n",
              "        2.13028372e-07, 4.22578106e-09, 7.11724069e-10, 1.49734333e-05,\n",
              "        2.60207543e-07, 7.55357448e-08, 2.26018358e-07, 1.13075043e-08,\n",
              "        1.72601219e-07, 3.71225823e-08, 4.12801882e-08, 9.42412459e-09,\n",
              "        9.25929555e-09, 3.16543805e-07, 2.80933055e-08, 3.42868822e-09,\n",
              "        1.90970880e-07, 5.41822587e-08, 1.18472641e-07, 6.38035829e-08,\n",
              "        9.94387683e-09, 3.13252400e-07, 1.22724362e-06, 1.72253192e-06,\n",
              "        1.91598232e-07, 9.46293198e-07, 4.02564069e-07, 2.22586527e-06,\n",
              "        2.58282341e-07, 2.49706940e-08, 1.03358866e-06, 3.57385872e-08,\n",
              "        5.16231946e-09, 7.67287300e-09, 2.11398105e-06, 1.46389911e-09,\n",
              "        2.94851787e-09, 7.82014183e-07, 4.06992307e-08, 6.74154478e-07,\n",
              "        1.93354985e-08, 2.65137068e-09, 7.87287892e-04, 1.86689078e-07,\n",
              "        1.19457479e-06, 7.74212879e-07, 6.94836763e-06, 1.30412463e-08,\n",
              "        4.59568554e-07, 5.65956441e-07, 7.29949022e-07, 5.58567503e-09,\n",
              "        1.10985206e-06, 2.52282121e-07, 5.80199710e-08, 2.56744983e-07,\n",
              "        1.18818031e-08, 3.57721426e-08, 2.50361722e-08, 3.69753828e-08,\n",
              "        5.04903177e-08, 5.05378175e-08, 7.95879807e-09, 7.01059548e-08,\n",
              "        2.23037759e-07, 3.34443087e-07, 4.50045938e-08, 4.59685978e-09,\n",
              "        4.03707023e-09, 2.95441378e-08, 4.11385281e-09, 2.10238915e-09,\n",
              "        1.31227829e-09, 5.71366598e-09, 1.81529549e-06, 1.73336014e-06,\n",
              "        4.83780198e-08, 1.69728196e-07, 6.45502709e-08, 8.69905392e-08,\n",
              "        4.45677915e-06, 5.13026457e-08, 2.13233875e-07, 5.95329652e-09,\n",
              "        1.95109067e-07, 6.84778954e-08, 6.21251246e-08, 3.47613688e-10,\n",
              "        5.41705480e-09, 1.18261383e-08, 3.36521248e-06, 8.35787978e-06,\n",
              "        1.69652523e-08, 1.73979672e-07, 1.68786329e-07, 2.38972948e-08,\n",
              "        2.05681676e-08, 3.42365176e-08, 9.37161360e-07, 6.64459137e-08,\n",
              "        5.42461613e-08, 2.73817569e-09, 3.29590577e-08, 1.50001380e-08,\n",
              "        9.77670567e-09, 1.92375271e-09, 1.53249573e-08, 3.26192726e-08,\n",
              "        3.20047320e-07, 2.48595899e-08, 4.65264591e-08, 3.51391782e-06,\n",
              "        5.14768210e-08, 1.79434252e-07, 4.92218703e-07, 3.85046263e-07,\n",
              "        6.04914945e-08, 1.64326494e-07, 6.55795759e-07, 3.15173629e-08,\n",
              "        9.66579492e-08, 1.31362003e-06, 1.31414617e-06, 7.99939031e-08,\n",
              "        2.65859455e-07, 2.72362126e-06, 2.17625347e-04, 8.17604700e-07,\n",
              "        3.79743540e-07, 7.81819551e-07, 6.23212983e-08, 3.82540918e-07,\n",
              "        1.33871026e-06, 9.86085070e-07, 2.87088653e-07, 1.14370465e-07,\n",
              "        2.15711715e-08, 8.33675617e-09, 4.43676473e-09, 1.86745353e-07,\n",
              "        1.45849590e-08, 1.20885545e-06, 2.46624495e-07, 2.27161581e-06,\n",
              "        6.53748211e-09, 5.62400295e-08, 6.99891771e-08, 2.82180304e-06,\n",
              "        2.22789345e-06, 3.69669948e-08, 5.79485224e-08, 1.79710838e-07,\n",
              "        1.17127911e-07, 2.54838461e-08, 3.46524445e-08, 4.07273433e-08,\n",
              "        3.91382002e-08, 2.88249229e-08, 2.85660953e-08, 1.33119647e-06,\n",
              "        3.85464176e-08, 6.07417860e-07, 3.74663131e-07, 7.14825660e-07,\n",
              "        2.04060022e-08, 1.40793773e-07, 1.77011330e-08, 1.14893294e-06,\n",
              "        1.10710675e-06, 7.07840755e-08, 2.36941332e-07, 5.63741729e-08,\n",
              "        3.55595553e-08, 9.86686999e-09, 4.05578859e-08, 1.09333278e-07,\n",
              "        6.19982288e-08, 6.17898621e-08, 7.28773486e-09, 8.48683399e-08,\n",
              "        4.17578647e-08, 8.58980176e-09, 6.85306523e-09, 9.97748550e-09,\n",
              "        1.99124734e-08, 4.06605380e-07, 1.22862662e-08, 8.10645684e-09,\n",
              "        3.19077162e-06, 1.13455587e-06, 2.93589596e-06, 3.44204091e-06,\n",
              "        1.92763228e-08, 5.34367587e-07, 2.45166909e-08, 5.17499075e-08,\n",
              "        1.08284954e-08, 6.22141769e-08, 9.73085662e-07, 6.05738251e-06,\n",
              "        4.26857163e-08, 1.40157411e-07, 1.27098767e-08, 5.75239198e-07,\n",
              "        3.02968353e-08, 2.56492931e-05, 6.27672216e-06, 4.97092685e-07,\n",
              "        8.13091674e-07, 3.22368237e-06, 2.33313403e-06, 2.97660063e-06,\n",
              "        3.24733969e-06, 7.47700483e-07, 8.32959230e-08, 2.45799008e-08,\n",
              "        3.88932420e-07, 1.64838593e-06, 6.95499693e-06, 1.60408706e-06,\n",
              "        9.79828292e-06, 1.19679260e-06, 5.96920984e-07, 2.08402504e-08,\n",
              "        1.87451576e-07, 2.41481448e-05, 2.41749767e-08, 1.95972092e-07,\n",
              "        1.44076739e-06, 4.15399057e-07, 1.72365583e-06, 1.13265575e-09,\n",
              "        1.94553209e-08, 6.64206746e-05, 8.60250475e-06, 2.49311469e-08,\n",
              "        8.07644028e-07, 8.14126366e-08, 3.83959431e-03, 1.54228928e-03,\n",
              "        4.51812321e-09, 4.25793360e-07, 7.96626942e-09, 3.93475545e-08,\n",
              "        1.20839502e-07, 3.17724371e-08, 1.50943393e-07, 1.06949997e-07,\n",
              "        6.95652558e-09, 4.64897141e-07, 8.57110010e-08, 1.91718144e-07,\n",
              "        1.85261683e-07, 5.48529158e-07, 4.47706050e-08, 4.56342377e-07,\n",
              "        2.47557619e-09, 2.31277156e-07, 1.14622594e-07, 4.90948704e-09,\n",
              "        4.06043066e-09, 1.63654708e-08, 8.33251548e-08, 6.54630625e-08,\n",
              "        2.58118575e-07, 5.05472883e-07, 1.17843024e-08, 6.15934186e-06,\n",
              "        5.94988051e-05, 6.37707103e-07, 1.87128728e-06, 1.35848279e-06,\n",
              "        3.25535154e-08, 3.42784042e-04, 9.86299694e-01, 2.77408166e-04,\n",
              "        3.55397788e-05, 1.11838244e-05, 2.36068126e-06, 6.51407817e-10,\n",
              "        5.87467888e-08, 9.31628983e-06, 9.18830483e-06, 3.99591693e-09,\n",
              "        5.86382036e-08, 8.60662741e-09, 2.57167931e-09, 8.76816397e-09,\n",
              "        7.24506535e-08, 1.18249588e-09, 1.26973747e-08, 9.61887014e-10,\n",
              "        7.52207008e-09, 7.82089501e-07, 2.57354031e-08, 4.34409259e-07,\n",
              "        6.79815013e-04, 6.17826765e-04, 2.54702929e-04, 9.19438840e-04,\n",
              "        9.20541206e-05, 5.59339696e-06, 1.05965366e-04, 2.40421559e-06,\n",
              "        5.00839724e-06, 4.99954531e-08, 1.16858407e-08, 2.55012065e-08,\n",
              "        2.68370627e-07, 3.05015675e-08, 5.96898508e-06, 9.45411466e-06,\n",
              "        3.12631505e-06, 3.69417262e-06, 1.35987932e-07, 2.58822439e-08,\n",
              "        2.33014088e-08, 3.00596905e-04, 3.74282649e-06, 2.27257672e-07,\n",
              "        1.27950843e-04, 1.53838319e-05, 1.40133037e-04, 5.03685449e-08,\n",
              "        5.11373685e-07, 2.07980406e-08, 8.58139670e-10, 1.29732462e-06,\n",
              "        2.35133541e-07, 5.08203613e-08, 4.01285979e-06, 5.57812641e-09,\n",
              "        3.47079414e-08, 3.45811344e-08, 3.00442515e-09, 2.65340567e-08,\n",
              "        2.42731232e-07, 1.03434850e-03, 2.35211939e-08, 2.95828748e-08,\n",
              "        1.03008688e-07, 7.48173719e-08, 9.28191035e-09, 6.87055079e-09,\n",
              "        1.24062440e-08, 6.42044595e-09, 1.01596008e-07, 1.97186523e-07,\n",
              "        8.25964932e-08, 9.66273461e-08, 5.45480852e-08, 1.68679634e-07,\n",
              "        1.66691336e-06, 1.66255667e-08, 7.60741337e-09, 3.05971440e-07,\n",
              "        2.41397146e-07, 2.04642262e-07, 8.70614230e-08, 6.95184690e-06,\n",
              "        8.89418938e-09, 2.68435052e-08, 2.76121000e-07, 9.40000149e-08,\n",
              "        1.60360071e-06, 4.50360016e-09, 4.67301255e-08, 2.61377355e-08,\n",
              "        1.31264200e-08, 5.56712052e-07, 2.31903232e-06, 2.36336760e-07,\n",
              "        1.11755170e-07, 1.78740424e-06, 1.15852628e-04, 2.27537214e-07,\n",
              "        9.76587788e-09, 7.82191307e-08, 2.40410429e-07, 2.30616774e-06,\n",
              "        1.01468709e-06, 1.08919448e-06, 3.84919758e-08, 2.40278382e-07,\n",
              "        2.58353761e-09, 1.27911289e-06, 8.58590710e-08, 2.28800059e-06,\n",
              "        1.02887341e-07, 4.75868278e-09, 1.44274648e-09, 3.08503978e-08,\n",
              "        9.16470526e-07, 4.49592115e-08, 1.53168116e-07, 9.84157282e-07,\n",
              "        9.46383025e-08, 1.60095041e-07, 1.21909789e-08, 6.95123390e-07,\n",
              "        4.69196451e-08, 6.79520884e-09, 4.09341283e-07, 3.31780780e-06,\n",
              "        3.06446104e-08, 7.54847207e-09, 1.35780915e-08, 1.19655749e-06,\n",
              "        7.53455652e-07, 1.53143791e-08, 5.50333016e-06, 7.68180541e-09,\n",
              "        4.53135591e-08, 6.83267798e-09, 6.58308110e-08, 3.83445979e-07,\n",
              "        9.90772719e-07, 2.27123245e-08, 1.89034336e-06, 5.14183363e-08,\n",
              "        2.50362092e-07, 4.21643819e-07, 1.01558797e-07, 4.59435370e-07,\n",
              "        3.92344162e-07, 3.14844399e-08, 4.41225119e-08, 2.21737787e-06,\n",
              "        1.87939179e-07, 5.77138280e-07, 1.05335239e-04, 1.72994667e-08,\n",
              "        3.41105846e-08, 1.09859588e-08, 2.85663276e-07, 1.13226966e-08,\n",
              "        4.23801822e-07, 1.07295094e-07, 8.24930521e-06, 1.14234638e-07,\n",
              "        5.95565055e-08, 3.78680284e-07, 2.05988798e-07, 2.98378950e-07,\n",
              "        4.52859808e-07, 1.03176802e-07, 1.68832287e-06, 2.32954083e-08,\n",
              "        9.97546522e-06, 2.01080297e-07, 8.72665318e-09, 3.52303111e-08,\n",
              "        1.33039935e-08, 3.96902173e-08, 2.81476922e-08, 1.97887402e-06,\n",
              "        1.19007188e-06, 1.02039692e-08, 5.99302581e-08, 7.18034187e-07,\n",
              "        1.71759510e-07, 2.58763215e-08, 2.47267060e-08, 5.87950240e-07,\n",
              "        1.57934306e-08, 1.84487159e-09, 7.99826466e-07, 9.40294242e-08,\n",
              "        5.31618483e-08, 9.15377825e-07, 3.73305170e-06, 1.84374858e-06,\n",
              "        4.88117955e-08, 1.36006747e-07, 6.77015748e-07, 1.73921265e-07,\n",
              "        5.02031185e-07, 1.47501083e-07, 9.14753500e-08, 7.41722351e-06,\n",
              "        2.41996556e-08, 3.12543733e-07, 3.92636110e-07, 1.23331233e-07,\n",
              "        2.50516363e-09, 1.43536028e-07, 1.60098601e-08, 3.99370509e-10,\n",
              "        3.20097087e-07, 4.79425175e-08, 2.29631482e-07, 8.10530651e-07,\n",
              "        2.37837730e-06, 2.96161851e-08, 4.47436328e-08, 5.75491335e-08,\n",
              "        1.02452212e-07, 2.16829577e-08, 1.89135577e-07, 8.28231848e-08,\n",
              "        2.85172518e-07, 3.71683484e-08, 2.24262759e-08, 8.17323667e-08,\n",
              "        2.34956676e-09, 7.15031867e-10, 8.54335340e-08, 3.45681421e-08,\n",
              "        7.46452633e-06, 6.14612148e-08, 1.41535210e-08, 1.48721895e-07,\n",
              "        1.23310187e-07, 5.95909384e-08, 1.92171385e-07, 2.36494007e-08,\n",
              "        7.77249411e-08, 2.45608419e-07, 2.05308561e-06, 3.45574477e-07,\n",
              "        4.04903275e-08, 1.33474556e-08, 1.28148542e-06, 1.97740377e-07,\n",
              "        5.93305458e-08, 1.28613044e-06, 4.96216890e-09, 6.87735513e-09,\n",
              "        1.26485486e-06, 3.24221855e-06, 3.21298131e-07, 1.12418235e-07,\n",
              "        9.64285150e-08, 1.82769412e-07, 1.70373951e-07, 5.67271741e-09,\n",
              "        4.23103330e-08, 1.42578027e-09, 3.04289784e-07, 7.36217999e-07,\n",
              "        1.73901356e-07, 4.01792164e-08, 1.81096232e-06, 1.32522526e-08,\n",
              "        1.11008859e-07, 2.97400561e-07, 7.47284957e-07, 5.89519500e-09,\n",
              "        4.95555298e-07, 8.12953189e-08, 4.64511771e-08, 2.16083876e-07,\n",
              "        1.08448655e-08, 1.17183163e-06, 4.66908325e-08, 4.00412006e-08,\n",
              "        4.77020770e-08, 1.04408809e-06, 5.13129201e-08, 7.71689713e-07,\n",
              "        2.62885783e-06, 2.83952541e-08, 1.62099312e-07, 1.08064874e-07,\n",
              "        1.29774079e-07, 3.60051544e-08, 1.60858399e-05, 3.75857724e-07,\n",
              "        1.14568877e-06, 1.64357152e-06, 4.31891012e-09, 1.15129389e-07,\n",
              "        4.94935136e-07, 6.43319709e-08, 1.04502140e-08, 1.56086273e-08,\n",
              "        1.37942049e-08, 2.70160889e-08, 4.41947395e-06, 1.15637590e-06,\n",
              "        1.15805626e-07, 5.78764229e-07, 3.50081244e-08, 6.85859675e-07,\n",
              "        1.08192016e-05, 6.64025501e-09, 3.52785406e-07, 7.54279128e-08,\n",
              "        5.15305594e-08, 4.70069539e-09, 3.11899232e-04, 1.04633038e-07,\n",
              "        1.94017105e-07, 1.13337450e-07, 2.75920911e-07, 4.68816467e-07,\n",
              "        7.56057972e-08, 2.12380780e-08, 1.97557327e-07, 1.57108655e-08,\n",
              "        6.73397471e-09, 5.55082913e-09, 3.22367441e-07, 1.71304340e-08,\n",
              "        1.05127594e-06, 8.21080981e-09, 3.52679592e-08, 6.64314996e-07,\n",
              "        5.71408066e-07, 7.06160197e-09, 2.08372306e-08, 5.62314195e-09,\n",
              "        1.07759783e-08, 2.45021783e-06, 1.31973400e-04, 5.17807841e-09,\n",
              "        6.22674747e-08, 1.65951064e-06, 9.58625492e-07, 4.38917702e-08,\n",
              "        2.84205413e-07, 6.56581460e-06, 2.89567339e-08, 5.25996768e-07,\n",
              "        3.57501494e-06, 1.00985496e-07, 1.04695664e-06, 3.61120307e-08,\n",
              "        1.15723537e-06, 5.32649658e-08, 2.18246541e-08, 9.08318825e-08,\n",
              "        4.58636379e-07, 4.52668267e-08, 9.56802371e-09, 3.37305543e-08,\n",
              "        1.78979394e-06, 1.12414637e-06, 9.04849685e-07, 8.69482847e-07,\n",
              "        1.87922251e-06, 6.35963993e-09, 1.54086152e-07, 1.45450059e-07,\n",
              "        9.39239044e-07, 1.16133378e-08, 7.91766368e-08, 2.66307325e-07,\n",
              "        6.72440308e-08, 8.75361295e-08, 1.22567229e-07, 6.39342147e-07,\n",
              "        2.41857094e-07, 1.59217393e-07, 3.16052734e-07, 4.69438106e-08,\n",
              "        2.65660731e-07, 2.65579025e-08, 4.02985847e-07, 1.45691263e-06,\n",
              "        4.56304718e-08, 6.83567905e-08, 5.89185049e-07, 2.88681292e-07,\n",
              "        3.10422732e-09, 3.08951968e-07, 4.12767864e-09, 8.58657927e-08,\n",
              "        4.14525871e-08, 3.03538670e-08, 1.96890748e-09, 6.00838632e-08,\n",
              "        1.74037737e-07, 2.17573131e-07, 1.71502364e-07, 1.12094718e-07,\n",
              "        1.65994194e-07, 3.32549718e-07, 4.90473212e-07, 2.16097167e-08,\n",
              "        9.29140995e-08, 2.90881488e-08, 1.76422418e-07, 3.13512743e-07,\n",
              "        1.82250623e-08, 2.00778686e-07, 1.35559661e-08, 1.30595865e-07,\n",
              "        2.24995826e-08, 1.42396971e-06, 2.56642299e-08, 1.97358965e-08,\n",
              "        7.37862081e-07, 2.80168479e-07, 6.26102576e-07, 1.44466306e-09,\n",
              "        3.58967234e-09, 7.01056777e-08, 4.10936920e-08, 7.49112303e-07,\n",
              "        9.78874652e-08, 4.63850228e-07, 6.64238939e-07, 1.49580242e-08,\n",
              "        7.82641596e-09, 6.54166428e-08, 1.73884871e-08, 3.36116477e-06,\n",
              "        1.02558779e-07, 7.91833259e-07, 5.34726254e-08, 6.29399750e-08,\n",
              "        3.18835305e-08, 5.79546077e-06, 1.30309346e-07, 7.49369136e-08,\n",
              "        3.10374944e-08, 1.98694892e-08, 1.56825681e-05, 2.42725918e-07,\n",
              "        3.06073993e-08, 1.02316690e-07, 7.68008476e-07, 1.49197078e-07,\n",
              "        1.05095512e-06, 6.95058418e-07, 2.98160472e-07, 2.90367623e-08,\n",
              "        3.58025005e-07, 1.76873058e-07, 5.11659607e-07, 5.00200557e-08,\n",
              "        8.55992077e-09, 2.23722964e-06, 6.24787958e-07, 1.31478179e-08,\n",
              "        1.28096659e-07, 5.63271215e-07, 1.89524769e-08, 4.28602021e-07,\n",
              "        3.50634394e-07, 2.05938786e-08, 5.20406829e-09, 4.15178425e-09,\n",
              "        1.11375861e-07, 1.20710610e-07, 6.18060369e-07, 1.38306930e-08,\n",
              "        1.41495536e-06, 6.12546529e-08, 3.16649789e-07, 1.17455211e-05,\n",
              "        2.08143391e-09, 1.90468882e-07, 9.35780164e-08, 1.57154805e-08,\n",
              "        1.23924799e-08, 2.51387160e-08, 2.84177503e-07, 1.49824530e-06,\n",
              "        2.03194503e-10, 1.03681383e-08, 1.89339762e-08, 9.63521757e-07,\n",
              "        6.62649654e-07, 1.54276627e-08, 7.78443763e-08, 1.61472272e-07,\n",
              "        1.45757076e-05, 3.08662322e-08, 5.44202656e-08, 5.30517461e-08,\n",
              "        5.02609376e-09, 2.35067947e-08, 5.18049376e-07, 4.88931384e-08,\n",
              "        1.11623365e-06, 2.25314821e-07, 9.65653953e-07, 3.13448290e-08,\n",
              "        1.01627541e-06, 2.78456270e-07, 2.24529302e-07, 7.91484410e-07,\n",
              "        2.27736521e-07, 7.69837698e-06, 1.11355007e-06, 3.76674265e-08,\n",
              "        1.71380734e-07, 3.17500394e-07, 6.12315307e-06, 4.52140193e-06,\n",
              "        1.49865684e-06, 2.30836346e-08, 5.61891284e-07, 1.91054249e-04,\n",
              "        2.17875429e-09, 2.33609185e-07, 5.61480711e-08, 1.46028924e-07,\n",
              "        1.52967687e-07, 5.38121085e-08, 1.37281143e-06, 1.17136623e-09,\n",
              "        1.65917662e-08, 1.81711425e-06, 1.35009790e-08, 4.50528610e-08,\n",
              "        8.76591031e-08, 6.01694197e-08, 2.74186132e-08, 9.15501719e-09,\n",
              "        1.64767940e-07, 3.12474739e-08, 1.87353821e-09, 9.14367888e-08,\n",
              "        1.52653422e-06, 6.09121571e-07, 3.00728345e-07, 4.76717673e-07,\n",
              "        5.30100692e-08, 1.96278567e-08, 2.46589906e-07, 2.07806821e-07,\n",
              "        1.50627173e-07, 1.10826868e-08, 1.09416924e-07, 1.13376252e-07,\n",
              "        1.68666758e-09, 2.52105501e-08, 1.62027135e-07, 6.01019412e-09,\n",
              "        4.98292358e-08, 3.72073607e-08, 2.14393800e-08, 5.80875681e-10,\n",
              "        3.19978369e-07, 1.64566075e-06, 1.45721424e-06, 3.14286410e-08,\n",
              "        1.00390292e-08, 3.79829892e-08, 2.05399118e-07, 2.74395165e-06,\n",
              "        3.89668503e-06, 1.10770122e-06, 3.81325194e-08, 6.28636997e-07,\n",
              "        2.65475109e-09, 3.32276140e-09, 1.85512391e-07, 7.97842006e-07,\n",
              "        9.41408587e-08, 1.56432893e-08, 5.40415535e-09, 2.10678897e-09,\n",
              "        1.08507857e-06, 3.49702169e-08, 2.42989472e-07, 2.99210427e-07,\n",
              "        1.07414884e-07, 5.36599316e-07, 8.98707508e-09, 1.38813093e-07,\n",
              "        4.84893121e-07, 2.65151865e-08, 2.72001053e-08, 2.11219754e-06,\n",
              "        1.91213007e-06, 1.53053873e-06, 9.78967947e-08, 1.79862673e-06,\n",
              "        5.70693032e-07, 6.78652157e-08, 3.50011113e-08, 7.75301956e-09,\n",
              "        5.98267960e-08, 2.16728324e-04, 4.19749888e-08, 8.97731454e-08,\n",
              "        7.43524353e-09, 1.26028576e-09, 5.65776510e-08, 1.32542681e-07,\n",
              "        3.38881932e-06, 4.02814049e-09, 1.54532415e-06, 3.32280905e-07,\n",
              "        2.68752785e-07, 4.69178576e-06, 3.90079890e-07, 5.00532508e-07,\n",
              "        7.26349242e-07, 1.88733775e-05, 8.39109634e-06, 1.30328437e-04,\n",
              "        6.44638976e-06, 1.25807458e-06, 6.04516799e-07, 4.63929410e-07,\n",
              "        7.15380395e-08, 1.13141013e-07, 4.00161611e-08, 4.63591263e-08,\n",
              "        4.96297581e-08, 1.04952044e-07, 2.16780080e-07, 2.56160689e-07,\n",
              "        2.78947073e-06, 1.41352439e-06, 1.60543445e-09, 6.14563191e-07,\n",
              "        3.00855385e-09, 9.01835392e-07, 1.31699252e-09, 9.53230295e-09,\n",
              "        4.32974856e-09, 2.23863509e-07, 1.99873327e-07, 1.46439905e-09,\n",
              "        4.02714001e-10, 2.22305427e-08, 1.03434888e-06, 2.09451745e-08,\n",
              "        3.19201625e-08, 2.13472944e-07, 1.95423389e-09, 6.54199830e-05,\n",
              "        2.99131971e-05, 3.71310094e-08, 1.09156281e-05, 5.26606073e-07,\n",
              "        4.85571761e-08, 4.80145168e-09, 6.54603269e-08, 2.46437111e-07,\n",
              "        7.30534055e-07, 8.16222183e-08, 2.00852628e-05, 4.39001241e-07]],\n",
              "      dtype=float32)"
            ]
          },
          "metadata": {
            "tags": []
          },
          "execution_count": 79
        }
      ]
    },
    {
      "metadata": {
        "id": "tillQeRuuxC9",
        "colab_type": "code",
        "colab": {
          "autoexec": {
            "startup": false,
            "wait_interval": 0
          },
          "base_uri": "https://localhost:8080/",
          "height": 107
        },
        "outputId": "90a047a2-8658-4478-d349-1bfdb3f1ddf7",
        "executionInfo": {
          "status": "ok",
          "timestamp": 1529055502362,
          "user_tz": -330,
          "elapsed": 615,
          "user": {
            "displayName": "Himanshu Narang",
            "photoUrl": "//lh3.googleusercontent.com/-xqfGx9_lfCw/AAAAAAAAAAI/AAAAAAAAD7Y/_Yy2zsvI8Ng/s50-c-k-no/photo.jpg",
            "userId": "111430125776049304656"
          }
        }
      },
      "cell_type": "code",
      "source": [
        "# convert the probabilities to class labels\n",
        "\n",
        "from keras.applications.vgg16 import decode_predictions\n",
        "label = decode_predictions(y_pred)\n",
        "label"
      ],
      "execution_count": 97,
      "outputs": [
        {
          "output_type": "execute_result",
          "data": {
            "text/plain": [
              "[[('n02346627', 'porcupine', 0.9862997),\n",
              "  ('n02137549', 'mongoose', 0.0038395943),\n",
              "  ('n02138441', 'meerkat', 0.0015422893),\n",
              "  ('n02655020', 'puffer', 0.0010343485),\n",
              "  ('n02443484', 'black-footed_ferret', 0.00091943884)]]"
            ]
          },
          "metadata": {
            "tags": []
          },
          "execution_count": 97
        }
      ]
    },
    {
      "metadata": {
        "id": "avIwDGhT3B5Y",
        "colab_type": "code",
        "colab": {
          "autoexec": {
            "startup": false,
            "wait_interval": 0
          },
          "base_uri": "https://localhost:8080/",
          "height": 35
        },
        "outputId": "a324c01c-3dce-47ed-8509-82d1eb79181c",
        "executionInfo": {
          "status": "ok",
          "timestamp": 1529055503737,
          "user_tz": -330,
          "elapsed": 918,
          "user": {
            "displayName": "Himanshu Narang",
            "photoUrl": "//lh3.googleusercontent.com/-xqfGx9_lfCw/AAAAAAAAAAI/AAAAAAAAD7Y/_Yy2zsvI8Ng/s50-c-k-no/photo.jpg",
            "userId": "111430125776049304656"
          }
        }
      },
      "cell_type": "code",
      "source": [
        "# retrieve the most likely result, e.g. highest probability\n",
        "label = label[0][0]\n",
        "\n",
        "# print the classification\n",
        "print('%s (%.2f%%)' % (label[1], label[2]*100))"
      ],
      "execution_count": 98,
      "outputs": [
        {
          "output_type": "stream",
          "text": [
            "porcupine (98.63%)\n"
          ],
          "name": "stdout"
        }
      ]
    },
    {
      "metadata": {
        "id": "7sIic3HpzYIp",
        "colab_type": "code",
        "colab": {
          "autoexec": {
            "startup": false,
            "wait_interval": 0
          }
        }
      },
      "cell_type": "code",
      "source": [
        ""
      ],
      "execution_count": 0,
      "outputs": []
    },
    {
      "metadata": {
        "id": "ujSaYXsLzvsU",
        "colab_type": "code",
        "colab": {
          "autoexec": {
            "startup": false,
            "wait_interval": 0
          }
        }
      },
      "cell_type": "code",
      "source": [
        ""
      ],
      "execution_count": 0,
      "outputs": []
    }
  ]
}